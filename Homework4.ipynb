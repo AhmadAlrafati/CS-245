Sum of cost model and make:

file:///C:/Users/Ahmad/Downloads/Sum%20of%20cost%20model%20and%20make.pdf

Count of model:

file:///C:/Users/Ahmad/Downloads/Count%20of%20Model.pdf

Car Invenoty by color:

file:///C:/Users/Ahmad/Downloads/Car%20Inventory%20by%20color.pdf
