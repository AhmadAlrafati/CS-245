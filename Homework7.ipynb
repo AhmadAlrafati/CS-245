{
 "cells": [
  {
   "cell_type": "code",
   "outputs": [
    {
     "name": "stdout",
     "output_type": "stream",
     "text": [
      "Question 0: The dataset has 30 features.\n",
      "\n",
      "Question 2: Class distribution:\n",
      "malignant    212\n",
      "benign       357\n",
      "Name: target, dtype: int64\n",
      "\n",
      "Question 6: Predicted class for mean values: [1]\n",
      "\n",
      "Question 7: Class labels for the test set: (143,)\n",
      "\n",
      "Question 8: Mean accuracy of the KNN classifier: 0.916083916083916\n"
     ]
    }
   ],
   "source": [
    "\n",
    "import numpy as np\n",
    "import pandas as pd\n",
    "from sklearn.datasets import load_breast_cancer\n",
    "from sklearn.model_selection import train_test_split\n",
    "from sklearn.neighbors import KNeighborsClassifier\n",
    "\n",
    "\n",
    "cancer = load_breast_cancer()\n",
    "\n",
    "# Question 0\n",
    "num_features = cancer.data.shape[1]\n",
    "print(f\"Question 0: The dataset has {num_features} features.\")\n",
    "\n",
    "# Question 2\n",
    "target_series = pd.Series(cancer.target)\n",
    "\n",
    "# Question 2: Class distribution\n",
    "class_distribution = target_series.value_counts().sort_index()\n",
    "class_distribution.index = ['malignant', 'benign']\n",
    "class_distribution.name = 'target'\n",
    "print(f\"\\nQuestion 2: Class distribution:\\n{class_distribution}\")\n",
    "\n",
    "# Question 3\n",
    "X = pd.DataFrame(cancer.data, columns=cancer.feature_names)\n",
    "y = pd.Series(cancer.target, name='target')\n",
    "\n",
    "# Question 4\n",
    "X_train, X_test, y_train, y_test = train_test_split(X, y, test_size=0.25, random_state=0)\n",
    "\n",
    "# Question 5\n",
    "knn = KNeighborsClassifier(n_neighbors=1)\n",
    "knn.fit(X_train, y_train)\n",
    "\n",
    "# Question 6:\n",
    "mean_values_df = pd.DataFrame(X.mean()).T \n",
    "prediction = knn.predict(mean_values_df) \n",
    "print(f\"\\nQuestion 6: Predicted class for mean values: {prediction}\")\n",
    "\n",
    "# Question 7\n",
    "test_predictions = knn.predict(X_test)\n",
    "print(f\"\\nQuestion 7: Class labels for the test set: {test_predictions.shape}\")\n",
    "\n",
    "# Question 8\n",
    "score = knn.score(X_test, y_test)\n",
    "print(f\"\\nQuestion 8: Mean accuracy of the KNN classifier: {score}\")\n"
   ],
   "metadata": {
    "collapsed": false,
    "ExecuteTime": {
     "end_time": "2024-04-05T03:19:59.300357Z",
     "start_time": "2024-04-05T03:19:59.238080Z"
    }
   },
   "id": "3476ecf9e150f271",
   "execution_count": 7
  },
  {
   "cell_type": "code",
   "outputs": [],
   "source": [],
   "metadata": {
    "collapsed": false
   },
   "id": "86ea8b9e3a5099a"
  }
 ],
 "metadata": {
  "kernelspec": {
   "display_name": "Python 3",
   "language": "python",
   "name": "python3"
  },
  "language_info": {
   "codemirror_mode": {
    "name": "ipython",
    "version": 2
   },
   "file_extension": ".py",
   "mimetype": "text/x-python",
   "name": "python",
   "nbconvert_exporter": "python",
   "pygments_lexer": "ipython2",
   "version": "2.7.6"
  }
 },
 "nbformat": 4,
 "nbformat_minor": 5
}
